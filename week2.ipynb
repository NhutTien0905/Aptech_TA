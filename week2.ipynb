{
 "cells": [
  {
   "cell_type": "markdown",
   "metadata": {},
   "source": [
    "# Lecture 4"
   ]
  },
  {
   "cell_type": "code",
   "execution_count": 3,
   "metadata": {},
   "outputs": [
    {
     "name": "stdout",
     "output_type": "stream",
     "text": [
      "The 5 Fibonacci serie is: [0, 1, 1, 2, 3]\n"
     ]
    }
   ],
   "source": [
    "def generate_fibonacci(n):\n",
    "    \"\"\"Generate a list of the first n Fibonacci numbers.\"\"\"\n",
    "    if n <= 0:\n",
    "        return []\n",
    "    if n == 1:\n",
    "        return [0]\n",
    "    \n",
    "    fibonacci_list = [0, 1]\n",
    "    while len(fibonacci_list) < n:\n",
    "        next_fib = fibonacci_list[-1] + fibonacci_list[-2]\n",
    "        fibonacci_list.append(next_fib)\n",
    "    return fibonacci_list\n",
    "\n",
    "# Allow user to enter the value of n\n",
    "n = int(input(\"Enter the number of Fibonacci numbers to generate: \"))\n",
    "fibonacci_list = generate_fibonacci(n)\n",
    "print(f\"The {n} Fibonacci serie is: {fibonacci_list}\")\n"
   ]
  },
  {
   "cell_type": "code",
   "execution_count": 1,
   "metadata": {},
   "outputs": [
    {
     "name": "stdout",
     "output_type": "stream",
     "text": [
      "The 3th prime number is: 5\n"
     ]
    }
   ],
   "source": [
    "def is_prime(num):\n",
    "    \"\"\"Check if a number is a prime number.\"\"\"\n",
    "    if num <= 1:\n",
    "        return False\n",
    "    if num == 2:\n",
    "        return True\n",
    "    if num % 2 == 0:\n",
    "        return False\n",
    "    for i in range(3, int(num**0.5) + 1, 2):\n",
    "        if num % i == 0:\n",
    "            return False\n",
    "    return True\n",
    "\n",
    "def nth_prime(n):\n",
    "    \"\"\"Find the nth prime number.\"\"\"\n",
    "    count = 0\n",
    "    candidate = 2\n",
    "    while True:\n",
    "        if is_prime(candidate):\n",
    "            count += 1\n",
    "            if count == n:\n",
    "                return candidate\n",
    "        candidate += 1\n",
    "\n",
    "# Allow user to enter the value of n\n",
    "n = int(input(\"Enter the value of n to find the nth prime number: \"))\n",
    "nth_prime_number = nth_prime(n)\n",
    "print(f\"The {n}th prime number is: {nth_prime_number}\")"
   ]
  },
  {
   "cell_type": "markdown",
   "metadata": {},
   "source": [
    "# Lecture 5"
   ]
  },
  {
   "cell_type": "code",
   "execution_count": 3,
   "metadata": {},
   "outputs": [],
   "source": [
    "def analyze_data(file_path):\n",
    "    with open(file_path, 'r') as file:\n",
    "        lines = file.readlines()\n",
    "\n",
    "    total_age = 0\n",
    "    oldest_age = 0\n",
    "    oldest_person = \"\"\n",
    "\n",
    "    for line in lines:\n",
    "        name, age = line.strip().split(\", \")\n",
    "        age = int(age)\n",
    "        total_age += age\n",
    "\n",
    "        if age > oldest_age:\n",
    "            oldest_age = age\n",
    "            oldest_person = name\n",
    "\n",
    "    average_age = total_age / len(lines)\n",
    "\n",
    "    with open('result.txt', 'w') as result_file:\n",
    "        result_file.write(f\"Average Age: {average_age:.2f}\\n\")\n",
    "        result_file.write(f\"Oldest Person: {oldest_person} ({oldest_age} years old)\\n\")\n",
    "\n",
    "# Example usage\n",
    "analyze_data('exercise_txt.txt')"
   ]
  },
  {
   "cell_type": "code",
   "execution_count": 4,
   "metadata": {},
   "outputs": [
    {
     "name": "stdout",
     "output_type": "stream",
     "text": [
      "{101: {'name': 'John Doe', 'salary': 50000}, 102: {'name': 'Jane Smith', 'salary': 60000}, 103: {'name': 'Emily Davis', 'salary': 55000}}\n",
      "{'name': 'Michael Brown', 'salary': 70000}\n"
     ]
    }
   ],
   "source": [
    "import pickle\n",
    "\n",
    "def save_to_file(data, filename):\n",
    "    with open(filename, 'wb') as file:\n",
    "        pickle.dump(data, file)\n",
    "\n",
    "def load_from_file(filename):\n",
    "    with open(filename, 'rb') as file:\n",
    "        return pickle.load(file)\n",
    "\n",
    "def add_employee(employees, emp_id, name, salary):\n",
    "    employees[emp_id] = {'name': name, 'salary': salary}\n",
    "    save_to_file(employees, 'employees.pkl')\n",
    "\n",
    "def get_employee_details(emp_id):\n",
    "    employees = load_from_file('employees.pkl')\n",
    "    return employees.get(emp_id, 'Employee not found')\n",
    "\n",
    "# Initial data\n",
    "employees = {\n",
    "    101: {'name': 'John Doe', 'salary': 50000},\n",
    "    102: {'name': 'Jane Smith', 'salary': 60000},\n",
    "    103: {'name': 'Emily Davis', 'salary': 55000}\n",
    "}\n",
    "\n",
    "# Save initial data to file\n",
    "save_to_file(employees, 'employees.pkl')\n",
    "\n",
    "# Load data from file and print\n",
    "loaded_employees = load_from_file('employees.pkl')\n",
    "print(loaded_employees)\n",
    "\n",
    "# Add a new employee\n",
    "add_employee(loaded_employees, 104, 'Michael Brown', 70000)\n",
    "\n",
    "# Get and print details of an employee\n",
    "print(get_employee_details(104))\n"
   ]
  },
  {
   "cell_type": "markdown",
   "metadata": {},
   "source": [
    "# Lecture 6"
   ]
  },
  {
   "cell_type": "code",
   "execution_count": 5,
   "metadata": {},
   "outputs": [
    {
     "name": "stdout",
     "output_type": "stream",
     "text": [
      "Top 5 Words: [('madam', 1), ('arora', 1), ('teaches', 1), ('malayalam', 1), ('anna', 1)]\n",
      "Palindromes: ['arora', 'did', 'madam', 'malayalam', 'civic', 'anna', 'racecar']\n",
      "Anagram Groups: []\n",
      "Reversed Paragraph: listen? of anagram an is silent that know you Did fast. moves racecar The words. palindromic are Civic and Anna malayalam. teaches Arora Madam\n",
      "Encoded Paragraph: ocfco ctqtc vgcejgu ocncacnco. cppc cpf ekxke ctg rcnkpftqoke yqtfu. vjg tcegect oqxgu hcuv. fkf aqw mpqy vjcv ukngpv ku cp cpcitco qh nkuvgp?\n"
     ]
    }
   ],
   "source": [
    "text = \"\"\"\n",
    "Madam Arora teaches malayalam. Anna and Civic are palindromic words.\n",
    "The racecar moves fast. Did you know that silent is an anagram of listen?\n",
    "\"\"\"\n",
    "\n",
    "# 1. Word Frequency Analysis\n",
    "def word_frequency_analysis(text):\n",
    "    text = text.lower()\n",
    "    # Remove punctuation\n",
    "    for char in \"-.,\\n\":\n",
    "        text = text.replace(char, \" \")\n",
    "    words = text.split()\n",
    "\n",
    "    word_counts = {}\n",
    "    for word in words:\n",
    "        word_counts[word] = word_counts.get(word, 0) + 1\n",
    "\n",
    "    # Get the top 5 words\n",
    "    sorted_words = sorted(word_counts.items(), key=lambda item: item[1], reverse=True)\n",
    "    return sorted_words[:5]\n",
    "\n",
    "# 2. Palindrome Detection\n",
    "def find_palindromes(text):\n",
    "    text = text.lower()\n",
    "    for char in \"-.,\\n\":\n",
    "        text = text.replace(char, \" \")\n",
    "    words = set(text.split())\n",
    "\n",
    "    palindromes = []\n",
    "    for word in words:\n",
    "        if word == word[::-1] and len(word) > 1:\n",
    "            palindromes.append(word)\n",
    "    \n",
    "    return palindromes if palindromes else \"No palindromes found\"\n",
    "\n",
    "# 3. Anagram Detection\n",
    "def find_anagrams(text):\n",
    "    text = text.lower()\n",
    "    for char in \"-.,\\n\":\n",
    "        text = text.replace(char, \" \")\n",
    "    words = text.split()\n",
    "\n",
    "    anagrams = {}\n",
    "    for word in words:\n",
    "        sorted_word = ''.join(sorted(word))\n",
    "        if sorted_word in anagrams:\n",
    "            anagrams[sorted_word].append(word)\n",
    "        else:\n",
    "            anagrams[sorted_word] = [word]\n",
    "\n",
    "    # Return groups of anagrams with more than one member\n",
    "    return [group for group in anagrams.values() if len(group) > 1]\n",
    "\n",
    "# 4. Reverse the Paragraph\n",
    "def reverse_paragraph(text):\n",
    "    words = text.split()\n",
    "    return ' '.join(words[::-1])\n",
    "\n",
    "# 5. Custom Encoding (Caesar Cipher)\n",
    "def custom_encoding(text, shift):\n",
    "    encoded_text = []\n",
    "    for word in text.split():\n",
    "        encoded_word = ''\n",
    "        for char in word.lower():\n",
    "            if 'a' <= char <= 'z':\n",
    "                encoded_char = chr((ord(char) - ord('a') + shift) % 26 + ord('a'))\n",
    "            else:\n",
    "                encoded_char = char\n",
    "            encoded_word += encoded_char\n",
    "        encoded_text.append(encoded_word)\n",
    "    return ' '.join(encoded_text)\n",
    "\n",
    "# Example usage:\n",
    "text = \"\"\"\n",
    "Madam Arora teaches malayalam. Anna and Civic are palindromic words.\n",
    "The racecar moves fast. Did you know that silent is an anagram of listen?\n",
    "\"\"\"\n",
    "\n",
    "print(\"Top 5 Words:\", word_frequency_analysis(text))\n",
    "print(\"Palindromes:\", find_palindromes(text))\n",
    "print(\"Anagram Groups:\", find_anagrams(text))\n",
    "print(\"Reversed Paragraph:\", reverse_paragraph(text))\n",
    "print(\"Encoded Paragraph:\", custom_encoding(text, 2))\n"
   ]
  }
 ],
 "metadata": {
  "kernelspec": {
   "display_name": "Python 3",
   "language": "python",
   "name": "python3"
  },
  "language_info": {
   "codemirror_mode": {
    "name": "ipython",
    "version": 3
   },
   "file_extension": ".py",
   "mimetype": "text/x-python",
   "name": "python",
   "nbconvert_exporter": "python",
   "pygments_lexer": "ipython3",
   "version": "3.10.12"
  }
 },
 "nbformat": 4,
 "nbformat_minor": 2
}
