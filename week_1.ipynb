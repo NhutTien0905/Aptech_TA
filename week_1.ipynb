{
 "cells": [
  {
   "cell_type": "markdown",
   "metadata": {},
   "source": [
    "# Lecture 02"
   ]
  },
  {
   "cell_type": "code",
   "execution_count": 3,
   "metadata": {},
   "outputs": [
    {
     "name": "stdout",
     "output_type": "stream",
     "text": [
      "You have entered:  11\n",
      "Hello world!!\n"
     ]
    }
   ],
   "source": [
    "input_number = int(input(\"Enter a number: \"))\n",
    "print(\"You have entered:\", input_number)\n",
    "\n",
    "if input_number > 10:\n",
    "    print(\"Hello world!!\")"
   ]
  },
  {
   "cell_type": "code",
   "execution_count": 5,
   "metadata": {},
   "outputs": [
    {
     "name": "stdout",
     "output_type": "stream",
     "text": [
      "You have entered: 2\n",
      "Please enter a number greater than 10.\n",
      "You have entered: 32\n",
      "Hello world!!\n"
     ]
    }
   ],
   "source": [
    "while True:\n",
    "    input_number = int(input(\"Enter a number: \"))\n",
    "    print(\"You have entered:\", input_number)\n",
    "\n",
    "    if input_number > 10:\n",
    "        print(\"Hello world!!\")\n",
    "        break\n",
    "    else:\n",
    "        print(\"Please enter a number greater than 10.\")\n"
   ]
  },
  {
   "cell_type": "code",
   "execution_count": 6,
   "metadata": {},
   "outputs": [
    {
     "name": "stdout",
     "output_type": "stream",
     "text": [
      "The entered sides do not form a triangle. Please re-enter.\n",
      "The triangle is Right\n"
     ]
    }
   ],
   "source": [
    "while True:\n",
    "    a = float(input(\"Enter side a: \"))\n",
    "    b = float(input(\"Enter side b: \"))\n",
    "    c = float(input(\"Enter side c: \"))\n",
    "    \n",
    "    if a + b > c and a + c > b and b + c > a:\n",
    "        if a == b == c:\n",
    "            print(\"The triangle is Equilateral\")\n",
    "        elif a == b or b == c or a == c:\n",
    "            print(\"The triangle is Isosceles\")\n",
    "        else:\n",
    "            if (a**2 + b**2 == c**2) or (a**2 + c**2 == b**2) or (b**2 + c**2 == a**2):\n",
    "                print(\"The triangle is Right\")\n",
    "            elif (a**2 + b**2 < c**2) or (a**2 + c**2 < b**2) or (b**2 + c**2 < a**2):\n",
    "                print(\"The triangle is Obtuse\")\n",
    "            else:\n",
    "                print(\"The triangle is Scalene\")\n",
    "        break\n",
    "    else:\n",
    "        print(\"The entered sides do not form a triangle. Please re-enter.\")"
   ]
  },
  {
   "cell_type": "markdown",
   "metadata": {},
   "source": [
    "# Lecture 03"
   ]
  },
  {
   "cell_type": "code",
   "execution_count": 10,
   "metadata": {},
   "outputs": [
    {
     "name": "stdout",
     "output_type": "stream",
     "text": [
      "Weight must be a positive number. Please re-enter.\n",
      "Weight:  80.0\n",
      "Height:  1.73\n",
      "Your BMI is: 26.73\n"
     ]
    }
   ],
   "source": [
    "def calculate_bmi(weight, height):\n",
    "    # Calculate BMI\n",
    "    bmi = weight / (height ** 2)\n",
    "    # Return BMI rounded to 2 decimal points\n",
    "    return round(bmi, 2)\n",
    "\n",
    "while True:\n",
    "    # Input weight from the user and validate\n",
    "    weight = float(input(\"Enter your weight in kilograms: \"))\n",
    "    if weight <= 0:\n",
    "        print(\"Weight must be a positive number. Please re-enter.\")\n",
    "        continue\n",
    "    else:\n",
    "        print(\"Weight: \", weight)\n",
    "    \n",
    "    # Input height from the user and validate\n",
    "    height = float(input(\"Enter your height in meters: \"))\n",
    "    if height <= 0:\n",
    "        print(\"Height must be a positive number. Please re-enter.\")\n",
    "        continue\n",
    "    else:\n",
    "        print(\"Height: \", height)\n",
    "    \n",
    "    # Calculate BMI using the function\n",
    "    bmi = calculate_bmi(weight, height)\n",
    "    \n",
    "    # Display the BMI\n",
    "    print(f\"Your BMI is: {bmi:.2f}\")\n",
    "    break"
   ]
  },
  {
   "cell_type": "code",
   "execution_count": 11,
   "metadata": {},
   "outputs": [
    {
     "name": "stdout",
     "output_type": "stream",
     "text": [
      "Sides must be positive numbers. Please re-enter.\n",
      "The triangle is Right\n"
     ]
    }
   ],
   "source": [
    "def check_triangle(a, b, c):\n",
    "    return a + b > c and a + c > b and b + c > a\n",
    "\n",
    "def type_triangle(a, b, c):\n",
    "    if a == b == c:\n",
    "        return \"The triangle is Equilateral\"\n",
    "    elif a == b or b == c or a == c:\n",
    "        return \"The triangle is Isosceles\"\n",
    "    else:\n",
    "        if (a**2 + b**2 == c**2) or (a**2 + c**2 == b**2) or (b**2 + c**2 == a**2):\n",
    "            return \"The triangle is Right\"\n",
    "        elif (a**2 + b**2 < c**2) or (a**2 + c**2 < b**2) or (b**2 + c**2 < a**2):\n",
    "            return \"The triangle is Obtuse\"\n",
    "        else:\n",
    "            return \"The triangle is Scalene\"\n",
    "\n",
    "while True:\n",
    "    a = float(input(\"Enter side a: \"))\n",
    "    b = float(input(\"Enter side b: \"))\n",
    "    c = float(input(\"Enter side c: \"))\n",
    "\n",
    "    if a <= 0 or b <= 0 or c <= 0:\n",
    "        print(\"Sides must be positive numbers. Please re-enter.\")\n",
    "        continue\n",
    "    \n",
    "    if check_triangle(a, b, c):\n",
    "        print(type_triangle(a, b, c))\n",
    "        break\n",
    "    else:\n",
    "        print(\"The entered sides do not form a triangle. Please re-enter.\")"
   ]
  }
 ],
 "metadata": {
  "kernelspec": {
   "display_name": "Python 3",
   "language": "python",
   "name": "python3"
  },
  "language_info": {
   "codemirror_mode": {
    "name": "ipython",
    "version": 3
   },
   "file_extension": ".py",
   "mimetype": "text/x-python",
   "name": "python",
   "nbconvert_exporter": "python",
   "pygments_lexer": "ipython3",
   "version": "3.10.12"
  }
 },
 "nbformat": 4,
 "nbformat_minor": 2
}
